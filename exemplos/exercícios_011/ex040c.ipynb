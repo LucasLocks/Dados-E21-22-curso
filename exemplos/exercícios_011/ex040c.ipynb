{
  "cells": [
    {
      "cell_type": "markdown",
      "metadata": {
        "colab_type": "text",
        "id": "view-in-github"
      },
      "source": [
        "<a href=\"https://colab.research.google.com/github/Machado-tec/e2122-dados-geral/blob/main/e040c.ipynb\" target=\"_parent\"><img src=\"https://colab.research.google.com/assets/colab-badge.svg\" alt=\"Open In Colab\"/></a>"
      ]
    },
    {
      "cell_type": "markdown",
      "metadata": {
        "id": "LTkyLGF3i8BK"
      },
      "source": [
        "Isto foi um teste abcde\n"
      ]
    },
    {
      "cell_type": "markdown",
      "metadata": {},
      "source": [
        "Poxa professor, pq não ensinou isto aqui antes!!!! Teria feito tão bunitinho..."
      ]
    },
    {
      "cell_type": "code",
      "execution_count": null,
      "metadata": {
        "colab": {
          "base_uri": "https://localhost:8080/"
        },
        "id": "z0IPCuOThaHr",
        "outputId": "b6fd7381-61af-4998-d6d1-586724c84ace"
      },
      "outputs": [
        {
          "name": "stdout",
          "output_type": "stream",
          "text": [
            "inclusao bem feita aqui no vscode\n"
          ]
        }
      ],
      "source": [
        "a = [5, 2, 3, 1, 4]\n",
        "a.sort()\n",
        "a\n",
        "print(\"inclusao bem feita aqui no vscode\")\n"
      ]
    },
    {
      "cell_type": "markdown",
      "metadata": {
        "id": "RgyLYiuni_tf"
      },
      "source": [
        "Veja que agora temos um bug... no cerebro do professor... com o resultao abaixo"
      ]
    },
    {
      "cell_type": "markdown",
      "metadata": {
        "id": "P46AX6YMi_fd"
      },
      "source": []
    },
    {
      "cell_type": "code",
      "execution_count": null,
      "metadata": {
        "colab": {
          "base_uri": "https://localhost:8080/"
        },
        "id": "V_kb_KA3iZxN",
        "outputId": "dbb43e42-3546-46be-c33b-7f6a33384a30"
      },
      "outputs": [
        {
          "name": "stdout",
          "output_type": "stream",
          "text": [
            "[5, 2, 3, 1, 4]\n",
            "[5, 2, 3, 1, 4]\n",
            "[5, 10, 2, 3, 1, 4]\n",
            "[5, 10, 2, 3, 1, 4]\n"
          ]
        }
      ],
      "source": [
        "a = [5, 2, 3, 1, 4]\n",
        "b = a\n",
        "print(a)\n",
        "print(b)\n",
        "a.insert(1,10)\n",
        "print(a)\n",
        "print(b)\n"
      ]
    }
  ],
  "metadata": {
    "colab": {
      "authorship_tag": "ABX9TyO4dhWnKbNsdQ8yZtp3w0ox",
      "include_colab_link": true,
      "name": "Untitled10.ipynb",
      "provenance": []
    },
    "interpreter": {
      "hash": "9f77ce2b1ed388765e21d7f5878bacd3981cd9b22fb40286d618042031831404"
    },
    "kernelspec": {
      "display_name": "Python 3.10.4 64-bit",
      "language": "python",
      "name": "python3"
    },
    "language_info": {
      "codemirror_mode": {
        "name": "ipython",
        "version": 3
      },
      "file_extension": ".py",
      "mimetype": "text/x-python",
      "name": "python",
      "nbconvert_exporter": "python",
      "pygments_lexer": "ipython3",
      "version": "3.10.4"
    }
  },
  "nbformat": 4,
  "nbformat_minor": 0
}
